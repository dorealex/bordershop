{
 "cells": [
  {
   "cell_type": "code",
   "execution_count": 1,
   "metadata": {},
   "outputs": [],
   "source": [
    "from datetime import datetime as dt, time\n",
    "from datetime import timedelta\n",
    "import mongo_queries"
   ]
  },
  {
   "cell_type": "code",
   "execution_count": 13,
   "metadata": {},
   "outputs": [],
   "source": [
    "db = mongo_queries.db\n",
    "col= db['baseline']\n",
    "run = db['running']\n",
    "leg = db['legacy']\n",
    "late = db['latest times']\n",
    "#merge = db['running_merge']\n",
    "merge = db['running_merge2'] #for smaller queries\n",
    "lm = db['latest_merged']\n",
    "current = db['current_updaters']\n",
    "profs = db['profiles']"
   ]
  },
  {
   "cell_type": "code",
   "execution_count": 2,
   "metadata": {},
   "outputs": [],
   "source": [
    "curr = dt.utcnow()\n",
    "y = curr.year\n",
    "m = curr.month\n",
    "\n",
    "start = dt(y,m,1)\n",
    "if m==12:\n",
    "    end = dt(y+1,1,1) - timedelta(days=1)\n",
    "else:\n",
    "    end = dt(y,m+1,1) - timedelta(days=1)\n"
   ]
  },
  {
   "cell_type": "code",
   "execution_count": 5,
   "metadata": {},
   "outputs": [
    {
     "data": {
      "text/plain": [
       "datetime.datetime(2021, 11, 1, 0, 0)"
      ]
     },
     "execution_count": 5,
     "metadata": {},
     "output_type": "execute_result"
    }
   ],
   "source": [
    "start"
   ]
  },
  {
   "cell_type": "code",
   "execution_count": 6,
   "metadata": {},
   "outputs": [
    {
     "data": {
      "text/plain": [
       "datetime.datetime(2021, 11, 30, 0, 0)"
      ]
     },
     "execution_count": 6,
     "metadata": {},
     "output_type": "execute_result"
    }
   ],
   "source": [
    "end"
   ]
  },
  {
   "cell_type": "code",
   "execution_count": 7,
   "metadata": {},
   "outputs": [],
   "source": [
    "curr = dt(2021,9,15)"
   ]
  },
  {
   "cell_type": "code",
   "execution_count": 8,
   "metadata": {},
   "outputs": [],
   "source": []
  },
  {
   "cell_type": "code",
   "execution_count": 4,
   "metadata": {},
   "outputs": [
    {
     "data": {
      "text/plain": [
       "7703"
      ]
     },
     "execution_count": 4,
     "metadata": {},
     "output_type": "execute_result"
    }
   ],
   "source": [
    "mongo_queries.queries_this_month_base(curr)"
   ]
  },
  {
   "cell_type": "code",
   "execution_count": null,
   "metadata": {},
   "outputs": [],
   "source": []
  },
  {
   "cell_type": "code",
   "execution_count": null,
   "metadata": {},
   "outputs": [],
   "source": []
  },
  {
   "cell_type": "code",
   "execution_count": null,
   "metadata": {},
   "outputs": [],
   "source": []
  },
  {
   "cell_type": "code",
   "execution_count": null,
   "metadata": {},
   "outputs": [],
   "source": []
  },
  {
   "cell_type": "code",
   "execution_count": null,
   "metadata": {},
   "outputs": [],
   "source": []
  },
  {
   "cell_type": "code",
   "execution_count": 8,
   "metadata": {},
   "outputs": [
    {
     "data": {
      "text/plain": [
       "datetime.datetime(2021, 9, 15, 0, 0)"
      ]
     },
     "execution_count": 8,
     "metadata": {},
     "output_type": "execute_result"
    }
   ],
   "source": [
    "curr"
   ]
  },
  {
   "cell_type": "code",
   "execution_count": 14,
   "metadata": {},
   "outputs": [],
   "source": [
    "def queries_this_month_base(curr=None):\n",
    "    #how many queries were sent to google this month, if a date is supplied it will use that calendar month. If not, it will use today (UTC)\n",
    "    if not curr:\n",
    "        curr = dt.utcnow()\n",
    "    y = curr.year\n",
    "    m = curr.month\n",
    "\n",
    "    start = dt(y,m,1)\n",
    "    if m==12:\n",
    "        end = dt(y+1,1,1) - timedelta(days=1) #if its in December, then you go to the day before Jan 1st.\n",
    "    else:\n",
    "        end = dt(y,m+1,1) - timedelta(days=1) #otherwise go to the next month, and go back 1 day. This handles the months of varying length\n",
    "\n",
    "    res = col.aggregate([\n",
    "    {\n",
    "        '$unwind': {\n",
    "            'path': '$wait_times', \n",
    "            'includeArrayIndex': 'string', \n",
    "            'preserveNullAndEmptyArrays': False\n",
    "        }\n",
    "    }, {\n",
    "        '$project': {\n",
    "            'utc': '$wait_times.utc'\n",
    "        }\n",
    "    }, {\n",
    "        '$match': {\n",
    "            'utc': {\n",
    "                '$gte': start, \n",
    "                '$lt': end\n",
    "            }\n",
    "        }\n",
    "    }, {\n",
    "        '$count': 'utc'\n",
    "    }\n",
    "])"
   ]
  },
  {
   "cell_type": "code",
   "execution_count": 15,
   "metadata": {},
   "outputs": [],
   "source": [
    "queries_this_month_base()"
   ]
  },
  {
   "cell_type": "code",
   "execution_count": null,
   "metadata": {},
   "outputs": [],
   "source": []
  }
 ],
 "metadata": {
  "interpreter": {
   "hash": "8b4584f2191c96903f75c12ec2a0133faba06cb605780ebe4c1887943b91765f"
  },
  "kernelspec": {
   "display_name": "Python 3.7.10 64-bit ('bordershop': conda)",
   "language": "python",
   "name": "python3"
  },
  "language_info": {
   "codemirror_mode": {
    "name": "ipython",
    "version": 3
   },
   "file_extension": ".py",
   "mimetype": "text/x-python",
   "name": "python",
   "nbconvert_exporter": "python",
   "pygments_lexer": "ipython3",
   "version": "3.7.10"
  },
  "orig_nbformat": 4
 },
 "nbformat": 4,
 "nbformat_minor": 2
}
