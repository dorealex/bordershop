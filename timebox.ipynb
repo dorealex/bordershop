{
 "cells": [
  {
   "cell_type": "code",
   "execution_count": 4,
   "metadata": {},
   "outputs": [],
   "source": [
    "import datetime as dt\n",
    "from datetime import timedelta"
   ]
  },
  {
   "cell_type": "code",
   "execution_count": 5,
   "metadata": {},
   "outputs": [],
   "source": [
    "def create_time_box(start,finish,field_name='utc'):\n",
    "    q = {field_name:{'$gte':start,'$lte':finish}}\n",
    "    return q"
   ]
  },
  {
   "cell_type": "code",
   "execution_count": 6,
   "metadata": {},
   "outputs": [],
   "source": [
    "key_date = dt.datetime(2021,11,8)\n",
    "kd1 = key_date - timedelta(days=7)\n",
    "kd2 = key_date + timedelta(days=7)"
   ]
  },
  {
   "cell_type": "code",
   "execution_count": 7,
   "metadata": {},
   "outputs": [
    {
     "data": {
      "text/plain": [
       "{'utc': {'$gte': datetime.datetime(2021, 11, 1, 0, 0),\n",
       "  '$lte': datetime.datetime(2021, 11, 8, 0, 0)}}"
      ]
     },
     "execution_count": 7,
     "metadata": {},
     "output_type": "execute_result"
    }
   ],
   "source": [
    "create_time_box(kd1,key_date)"
   ]
  },
  {
   "cell_type": "code",
   "execution_count": 8,
   "metadata": {},
   "outputs": [
    {
     "data": {
      "text/plain": [
       "{'utc': {'$gte': datetime.datetime(2021, 11, 8, 0, 0),\n",
       "  '$lte': datetime.datetime(2021, 11, 15, 0, 0)}}"
      ]
     },
     "execution_count": 8,
     "metadata": {},
     "output_type": "execute_result"
    }
   ],
   "source": [
    "create_time_box(key_date,kd2)"
   ]
  },
  {
   "cell_type": "code",
   "execution_count": null,
   "metadata": {},
   "outputs": [],
   "source": []
  }
 ],
 "metadata": {
  "interpreter": {
   "hash": "8b4584f2191c96903f75c12ec2a0133faba06cb605780ebe4c1887943b91765f"
  },
  "kernelspec": {
   "display_name": "Python 3.7.10 64-bit ('bordershop': conda)",
   "language": "python",
   "name": "python3"
  },
  "language_info": {
   "codemirror_mode": {
    "name": "ipython",
    "version": 3
   },
   "file_extension": ".py",
   "mimetype": "text/x-python",
   "name": "python",
   "nbconvert_exporter": "python",
   "pygments_lexer": "ipython3",
   "version": "3.7.10"
  },
  "orig_nbformat": 4
 },
 "nbformat": 4,
 "nbformat_minor": 2
}
