{
 "cells": [
  {
   "cell_type": "code",
   "execution_count": 23,
   "metadata": {},
   "outputs": [],
   "source": [
    "import mongo_queries\n"
   ]
  },
  {
   "cell_type": "code",
   "execution_count": 2,
   "metadata": {},
   "outputs": [],
   "source": [
    "col = mongo_queries.col"
   ]
  },
  {
   "cell_type": "code",
   "execution_count": 4,
   "metadata": {},
   "outputs": [],
   "source": [
    "ids = list(col.find({},projection={'id':1,'_id':0}))"
   ]
  },
  {
   "cell_type": "code",
   "execution_count": 15,
   "metadata": {},
   "outputs": [],
   "source": [
    "ids = [i['id'] for i in ids]\n",
    "    "
   ]
  },
  {
   "cell_type": "code",
   "execution_count": 22,
   "metadata": {},
   "outputs": [],
   "source": [
    "for x in ids:\n",
    "    i = col.find_one({'id':x}, projection={'wait_times':0, 'legacy_times':0})\n",
    "    dest = i['dest']\n",
    "    lat, long = dest.split(',')\n",
    "    lat = lat.strip()\n",
    "    long = long.strip()\n",
    "    lat = float(lat)\n",
    "    long = float(long)\n",
    "    doc = {'location':{\n",
    "        'type': 'Point',\n",
    "        'coordinates': [long,lat]\n",
    "    }}\n",
    "    col.update_one({'id':x},update={'$set':doc})\n",
    "     "
   ]
  },
  {
   "cell_type": "code",
   "execution_count": null,
   "metadata": {},
   "outputs": [],
   "source": []
  }
 ],
 "metadata": {
  "interpreter": {
   "hash": "8b4584f2191c96903f75c12ec2a0133faba06cb605780ebe4c1887943b91765f"
  },
  "kernelspec": {
   "display_name": "Python 3.7.10 64-bit ('bordershop': conda)",
   "language": "python",
   "name": "python3"
  },
  "language_info": {
   "codemirror_mode": {
    "name": "ipython",
    "version": 3
   },
   "file_extension": ".py",
   "mimetype": "text/x-python",
   "name": "python",
   "nbconvert_exporter": "python",
   "pygments_lexer": "ipython3",
   "version": "3.7.10"
  },
  "orig_nbformat": 4
 },
 "nbformat": 4,
 "nbformat_minor": 2
}
