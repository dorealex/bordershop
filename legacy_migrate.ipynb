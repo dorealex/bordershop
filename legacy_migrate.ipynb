{
 "cells": [
  {
   "cell_type": "code",
   "execution_count": 1,
   "metadata": {},
   "outputs": [],
   "source": [
    "import mongo_queries\n",
    "from bson.objectid import ObjectId"
   ]
  },
  {
   "cell_type": "code",
   "execution_count": 2,
   "metadata": {},
   "outputs": [],
   "source": [
    "leg_map = mongo_queries.leg_map"
   ]
  },
  {
   "cell_type": "code",
   "execution_count": 5,
   "metadata": {},
   "outputs": [],
   "source": [
    "def migrate_legacy_by_id(id):\n",
    "    name = mongo_queries.id_to_legacy_name(id)\n",
    "    if name is None:\n",
    "        return\n",
    "    print(id, name)\n",
    "    res = mongo_queries.leg.find({'CBSA Office':name},{'timestamp':1,'travellers_seconds':1,'commercial_seconds':1,'_id':0})\n",
    "\n",
    "    res= list(res)\n",
    "    if res:\n",
    "        new_vals = {'$set':{'legacy_times':res}}    \n",
    "        mongo_queries.col.update_one({'id':id},update=new_vals)"
   ]
  },
  {
   "cell_type": "code",
   "execution_count": 6,
   "metadata": {},
   "outputs": [],
   "source": [
    "sites = list(mongo_queries.col.find({},{'id':1}))\n",
    "sites = [x['id']for x in sites]"
   ]
  },
  {
   "cell_type": "code",
   "execution_count": 8,
   "metadata": {},
   "outputs": [
    {
     "name": "stdout",
     "output_type": "stream",
     "text": [
      "817 Abbotsford-Huntingdon\n",
      "453 Ambassador Bridge\n",
      "212 Woodstock Road\n",
      "409 Cornwall\n",
      "441 Sault Ste. Marie\n",
      "231 St. Stephen 3rd Bridge\n",
      "841 Aldergrove\n",
      "410 Peace Bridge\n",
      "705 Coutts\n",
      "328 St-Armand/Philipsburg\n",
      "478 Fort Frances Bridge\n",
      "813 Pacific Highway\n",
      "502 Emerson\n",
      "314 Stanstead\n",
      "452 Windsor and Detroit Tunnel\n",
      "815 Boundary Bay\n",
      "351 St-Bernard-de-Lacolle\n",
      "213 Edmundston\n",
      "4272 Rainbow Bridge\n",
      "439 Prescott\n",
      "840 Douglas (Peace Arch)\n",
      "602 North Portal\n",
      "440 Blue Water Bridge\n",
      "456 Thousand Islands Bridge\n",
      "211 St. Stephen\n"
     ]
    }
   ],
   "source": [
    "for s in sites:\n",
    "    migrate_legacy_by_id(s)"
   ]
  },
  {
   "cell_type": "code",
   "execution_count": null,
   "metadata": {},
   "outputs": [],
   "source": []
  }
 ],
 "metadata": {
  "interpreter": {
   "hash": "8b4584f2191c96903f75c12ec2a0133faba06cb605780ebe4c1887943b91765f"
  },
  "kernelspec": {
   "display_name": "Python 3.7.10 64-bit ('bordershop': conda)",
   "language": "python",
   "name": "python3"
  },
  "language_info": {
   "codemirror_mode": {
    "name": "ipython",
    "version": 3
   },
   "file_extension": ".py",
   "mimetype": "text/x-python",
   "name": "python",
   "nbconvert_exporter": "python",
   "pygments_lexer": "ipython3",
   "version": "3.7.10"
  },
  "orig_nbformat": 4
 },
 "nbformat": 4,
 "nbformat_minor": 2
}
