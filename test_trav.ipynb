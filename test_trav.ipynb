{
 "cells": [
  {
   "cell_type": "code",
   "execution_count": 1,
   "metadata": {},
   "outputs": [],
   "source": [
    "import mongo_queries"
   ]
  },
  {
   "cell_type": "code",
   "execution_count": 2,
   "metadata": {},
   "outputs": [
    {
     "data": {
      "text/plain": [
       "[{'crossing name': 'Fraser',\n",
       "  'province': 'BC',\n",
       "  'id': 893,\n",
       "  'timezone': 'America/Vancouver',\n",
       "  'est. arrival at border (utc)': datetime.datetime(2021, 12, 6, 9, 30, 42, 151172),\n",
       "  'est. wait at border (s)': 0,\n",
       "  'total driving time': 95.07333333333334,\n",
       "  'total driving distance': 342.264,\n",
       "  'route name': 'Juneau - Haines and Klondike Hwy'}]"
      ]
     },
     "execution_count": 2,
     "metadata": {},
     "output_type": "execute_result"
    }
   ],
   "source": [
    "mongo_queries.get_trip_wait('Juneau, AK', 'Whitehorse')"
   ]
  },
  {
   "cell_type": "code",
   "execution_count": null,
   "metadata": {},
   "outputs": [],
   "source": []
  },
  {
   "cell_type": "code",
   "execution_count": null,
   "metadata": {},
   "outputs": [],
   "source": []
  }
 ],
 "metadata": {
  "interpreter": {
   "hash": "8b4584f2191c96903f75c12ec2a0133faba06cb605780ebe4c1887943b91765f"
  },
  "kernelspec": {
   "display_name": "Python 3.7.10 64-bit ('bordershop': conda)",
   "language": "python",
   "name": "python3"
  },
  "language_info": {
   "codemirror_mode": {
    "name": "ipython",
    "version": 3
   },
   "file_extension": ".py",
   "mimetype": "text/x-python",
   "name": "python",
   "nbconvert_exporter": "python",
   "pygments_lexer": "ipython3",
   "version": "3.7.10"
  },
  "orig_nbformat": 4
 },
 "nbformat": 4,
 "nbformat_minor": 2
}
