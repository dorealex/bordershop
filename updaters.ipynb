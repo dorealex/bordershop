{
 "cells": [
  {
   "cell_type": "code",
   "execution_count": 21,
   "metadata": {},
   "outputs": [],
   "source": [
    "import mongo_queries\n",
    "from bson.objectid import ObjectId"
   ]
  },
  {
   "cell_type": "code",
   "execution_count": 25,
   "metadata": {},
   "outputs": [],
   "source": [
    "sites = [427,440,602,351,453,840]"
   ]
  },
  {
   "cell_type": "code",
   "execution_count": 26,
   "metadata": {},
   "outputs": [],
   "source": [
    "import datetime as dt"
   ]
  },
  {
   "cell_type": "code",
   "execution_count": 27,
   "metadata": {},
   "outputs": [],
   "source": [
    "today = dt.datetime.today()"
   ]
  },
  {
   "cell_type": "code",
   "execution_count": 28,
   "metadata": {},
   "outputs": [],
   "source": [
    "curr = mongo_queries.current"
   ]
  },
  {
   "cell_type": "code",
   "execution_count": 29,
   "metadata": {},
   "outputs": [],
   "source": [
    "doc = {'datetime' : today, 'sites':sites}"
   ]
  },
  {
   "cell_type": "code",
   "execution_count": 30,
   "metadata": {},
   "outputs": [
    {
     "data": {
      "text/plain": [
       "<pymongo.results.InsertOneResult at 0x1d6a4458fc8>"
      ]
     },
     "execution_count": 30,
     "metadata": {},
     "output_type": "execute_result"
    }
   ],
   "source": [
    "curr.insert_one(doc)"
   ]
  },
  {
   "cell_type": "code",
   "execution_count": 31,
   "metadata": {},
   "outputs": [
    {
     "data": {
      "text/plain": [
       "[427, 440, 602, 351, 453, 840]"
      ]
     },
     "execution_count": 31,
     "metadata": {},
     "output_type": "execute_result"
    }
   ],
   "source": [
    "list(curr.find({}).sort('datetime',-1).limit(1))[0]['sites']"
   ]
  },
  {
   "cell_type": "code",
   "execution_count": 32,
   "metadata": {},
   "outputs": [
    {
     "data": {
      "text/plain": [
       "[427, 440, 602, 351, 453, 840]"
      ]
     },
     "execution_count": 32,
     "metadata": {},
     "output_type": "execute_result"
    }
   ],
   "source": [
    "mongo_queries.get_updating_list()"
   ]
  },
  {
   "cell_type": "code",
   "execution_count": 33,
   "metadata": {},
   "outputs": [],
   "source": [
    "base = mongo_queries.col"
   ]
  },
  {
   "cell_type": "code",
   "execution_count": 53,
   "metadata": {},
   "outputs": [],
   "source": [
    "late = mongo_queries.late\n",
    "leg = mongo_queries.leg\n",
    "run = mongo_queries.run"
   ]
  },
  {
   "cell_type": "code",
   "execution_count": 35,
   "metadata": {},
   "outputs": [],
   "source": [
    "id = 817"
   ]
  },
  {
   "cell_type": "code",
   "execution_count": 42,
   "metadata": {},
   "outputs": [],
   "source": [
    "one = base.find_one({'id':id})"
   ]
  },
  {
   "cell_type": "code",
   "execution_count": 52,
   "metadata": {},
   "outputs": [],
   "source": [
    "uuid = one['_id']"
   ]
  },
  {
   "cell_type": "code",
   "execution_count": 76,
   "metadata": {},
   "outputs": [],
   "source": [
    "def migrate_times_by_id(id):\n",
    "    waits = list(run.find({'crossing_id':id},projection={'utc':1,'wait':1, '_id':0}))\n",
    "    \n",
    "    new_vals = {'$set':{'wait_times':waits}}\n",
    "    upd =  base.update_one({'id':id},new_vals)\n",
    "    print(upd)\n",
    "    return upd\n",
    "    "
   ]
  },
  {
   "cell_type": "code",
   "execution_count": 77,
   "metadata": {},
   "outputs": [
    {
     "name": "stdout",
     "output_type": "stream",
     "text": [
      "<pymongo.results.UpdateResult object at 0x000001D6A535BF48>\n"
     ]
    }
   ],
   "source": [
    "mig = migrate_times_by_id(id)"
   ]
  },
  {
   "cell_type": "code",
   "execution_count": 79,
   "metadata": {},
   "outputs": [
    {
     "data": {
      "text/plain": [
       "True"
      ]
     },
     "execution_count": 79,
     "metadata": {},
     "output_type": "execute_result"
    }
   ],
   "source": [
    "mig.acknowledged"
   ]
  },
  {
   "cell_type": "code",
   "execution_count": 80,
   "metadata": {},
   "outputs": [
    {
     "data": {
      "text/plain": [
       "1"
      ]
     },
     "execution_count": 80,
     "metadata": {},
     "output_type": "execute_result"
    }
   ],
   "source": [
    "mig.matched_count"
   ]
  },
  {
   "cell_type": "code",
   "execution_count": 81,
   "metadata": {},
   "outputs": [
    {
     "data": {
      "text/plain": [
       "1"
      ]
     },
     "execution_count": 81,
     "metadata": {},
     "output_type": "execute_result"
    }
   ],
   "source": [
    "mig.modified_count"
   ]
  },
  {
   "cell_type": "code",
   "execution_count": 82,
   "metadata": {},
   "outputs": [
    {
     "data": {
      "text/plain": [
       "{'n': 1,\n",
       " 'nModified': 1,\n",
       " 'opTime': {'ts': Timestamp(1637253792, 31), 't': 218},\n",
       " 'electionId': ObjectId('7fffffff00000000000000da'),\n",
       " 'ok': 1.0,\n",
       " '$clusterTime': {'clusterTime': Timestamp(1637253792, 31),\n",
       "  'signature': {'hash': b'2\\x8b\\xcf\\xde\\xdb\\x1d\\xa3[\\x12\\x1f\\x1e=\\xca\\xa5\\xbe\\x88`e\\xc2\\x82',\n",
       "   'keyId': 6995538273825193985}},\n",
       " 'operationTime': Timestamp(1637253792, 31),\n",
       " 'updatedExisting': True}"
      ]
     },
     "execution_count": 82,
     "metadata": {},
     "output_type": "execute_result"
    }
   ],
   "source": [
    "mig.raw_result"
   ]
  },
  {
   "cell_type": "code",
   "execution_count": null,
   "metadata": {},
   "outputs": [],
   "source": []
  },
  {
   "cell_type": "code",
   "execution_count": null,
   "metadata": {},
   "outputs": [],
   "source": []
  },
  {
   "cell_type": "code",
   "execution_count": 67,
   "metadata": {},
   "outputs": [],
   "source": [
    "wt = base.find_one({'id':id})['wait_times']"
   ]
  },
  {
   "cell_type": "code",
   "execution_count": 68,
   "metadata": {},
   "outputs": [],
   "source": [
    "import pandas as pd"
   ]
  },
  {
   "cell_type": "code",
   "execution_count": 70,
   "metadata": {},
   "outputs": [
    {
     "data": {
      "text/html": [
       "<div>\n",
       "<style scoped>\n",
       "    .dataframe tbody tr th:only-of-type {\n",
       "        vertical-align: middle;\n",
       "    }\n",
       "\n",
       "    .dataframe tbody tr th {\n",
       "        vertical-align: top;\n",
       "    }\n",
       "\n",
       "    .dataframe thead th {\n",
       "        text-align: right;\n",
       "    }\n",
       "</style>\n",
       "<table border=\"1\" class=\"dataframe\">\n",
       "  <thead>\n",
       "    <tr style=\"text-align: right;\">\n",
       "      <th></th>\n",
       "      <th>utc</th>\n",
       "      <th>wait</th>\n",
       "    </tr>\n",
       "  </thead>\n",
       "  <tbody>\n",
       "    <tr>\n",
       "      <th>0</th>\n",
       "      <td>2021-08-30 20:20:00.000</td>\n",
       "      <td>93</td>\n",
       "    </tr>\n",
       "    <tr>\n",
       "      <th>1</th>\n",
       "      <td>2021-08-30 20:30:00.000</td>\n",
       "      <td>0</td>\n",
       "    </tr>\n",
       "    <tr>\n",
       "      <th>2</th>\n",
       "      <td>2021-08-30 20:40:00.000</td>\n",
       "      <td>0</td>\n",
       "    </tr>\n",
       "    <tr>\n",
       "      <th>3</th>\n",
       "      <td>2021-08-30 20:50:00.000</td>\n",
       "      <td>4</td>\n",
       "    </tr>\n",
       "    <tr>\n",
       "      <th>4</th>\n",
       "      <td>2021-08-30 21:00:00.000</td>\n",
       "      <td>10</td>\n",
       "    </tr>\n",
       "    <tr>\n",
       "      <th>...</th>\n",
       "      <td>...</td>\n",
       "      <td>...</td>\n",
       "    </tr>\n",
       "    <tr>\n",
       "      <th>787</th>\n",
       "      <td>2021-10-04 15:34:32.342</td>\n",
       "      <td>0</td>\n",
       "    </tr>\n",
       "    <tr>\n",
       "      <th>788</th>\n",
       "      <td>2021-10-04 16:05:51.313</td>\n",
       "      <td>0</td>\n",
       "    </tr>\n",
       "    <tr>\n",
       "      <th>789</th>\n",
       "      <td>2021-10-04 16:36:53.644</td>\n",
       "      <td>0</td>\n",
       "    </tr>\n",
       "    <tr>\n",
       "      <th>790</th>\n",
       "      <td>2021-10-04 17:07:53.837</td>\n",
       "      <td>0</td>\n",
       "    </tr>\n",
       "    <tr>\n",
       "      <th>791</th>\n",
       "      <td>2021-10-04 17:38:57.060</td>\n",
       "      <td>0</td>\n",
       "    </tr>\n",
       "  </tbody>\n",
       "</table>\n",
       "<p>792 rows × 2 columns</p>\n",
       "</div>"
      ],
      "text/plain": [
       "                        utc  wait\n",
       "0   2021-08-30 20:20:00.000    93\n",
       "1   2021-08-30 20:30:00.000     0\n",
       "2   2021-08-30 20:40:00.000     0\n",
       "3   2021-08-30 20:50:00.000     4\n",
       "4   2021-08-30 21:00:00.000    10\n",
       "..                      ...   ...\n",
       "787 2021-10-04 15:34:32.342     0\n",
       "788 2021-10-04 16:05:51.313     0\n",
       "789 2021-10-04 16:36:53.644     0\n",
       "790 2021-10-04 17:07:53.837     0\n",
       "791 2021-10-04 17:38:57.060     0\n",
       "\n",
       "[792 rows x 2 columns]"
      ]
     },
     "execution_count": 70,
     "metadata": {},
     "output_type": "execute_result"
    }
   ],
   "source": [
    "pd.DataFrame(wt)"
   ]
  },
  {
   "cell_type": "code",
   "execution_count": 122,
   "metadata": {},
   "outputs": [],
   "source": [
    "ids = base.find({'wait_times':{'$exists':False}},projection={'id':1,'_id':0})"
   ]
  },
  {
   "cell_type": "code",
   "execution_count": 123,
   "metadata": {},
   "outputs": [],
   "source": [
    "my_list = [i['id'] for i in list(ids)]"
   ]
  },
  {
   "cell_type": "code",
   "execution_count": 124,
   "metadata": {},
   "outputs": [
    {
     "data": {
      "text/plain": [
       "[]"
      ]
     },
     "execution_count": 124,
     "metadata": {},
     "output_type": "execute_result"
    }
   ],
   "source": [
    "my_list"
   ]
  },
  {
   "cell_type": "code",
   "execution_count": 125,
   "metadata": {},
   "outputs": [],
   "source": [
    "import pandas as pd"
   ]
  },
  {
   "cell_type": "code",
   "execution_count": 15,
   "metadata": {},
   "outputs": [],
   "source": [
    "def make_filter_for_baseline_by_id_list(ids,filt=None):\n",
    "    mini = None\n",
    "\n",
    "    if type(ids) == list:\n",
    "        if len(ids) == 1:\n",
    "            mini = {'id':ids[0]}\n",
    "        elif len(ids) > 1:\n",
    "            mini = {'id':{'$in':ids}}\n",
    "    else:\n",
    "        mini = {'id':ids}\n",
    "    if filt:\n",
    "        print('filter found',filt, type(filt))\n",
    "        print('mini:', mini, type(mini))\n",
    "        res = filt.update(mini)\n",
    "        print(res)\n",
    "        return res\n",
    "    else:\n",
    "        return mini"
   ]
  },
  {
   "cell_type": "code",
   "execution_count": 17,
   "metadata": {},
   "outputs": [],
   "source": [
    "filt = {'Region':'Pacific'}"
   ]
  },
  {
   "cell_type": "code",
   "execution_count": 18,
   "metadata": {},
   "outputs": [
    {
     "name": "stdout",
     "output_type": "stream",
     "text": [
      "filter found {'Region': 'Pacific'} <class 'dict'>\n",
      "mini: {'id': 1234} <class 'dict'>\n",
      "None\n"
     ]
    }
   ],
   "source": [
    "make_filter_for_baseline_by_id_list(1234, filt)"
   ]
  },
  {
   "cell_type": "code",
   "execution_count": 23,
   "metadata": {},
   "outputs": [],
   "source": [
    "items = mongo_queries.get_updating_list()"
   ]
  },
  {
   "cell_type": "code",
   "execution_count": 2,
   "metadata": {},
   "outputs": [],
   "source": [
    "# db = cluster['bordercross']\n",
    "# col= db['baseline']\n",
    "# run = db['running']\n",
    "# leg = db['legacy']\n",
    "# late = db['latest times']\n",
    "# #merge = db['running_merge']\n",
    "# merge = db['running_merge2'] #for smaller queries\n",
    "# lm = db['latest_merged']\n",
    "# current = db['current_updaters']\n",
    "\n",
    "col = mongo_queries.col\n",
    "run = mongo_queries.run\n",
    "leg = mongo_queries.leg\n",
    "current = mongo_queries.current"
   ]
  },
  {
   "cell_type": "code",
   "execution_count": 55,
   "metadata": {},
   "outputs": [],
   "source": [
    "import pytz"
   ]
  },
  {
   "cell_type": "code",
   "execution_count": 68,
   "metadata": {},
   "outputs": [],
   "source": [
    "def get_last_run_base(id, req = None):\n",
    "    ###Given an id, return the last reading\n",
    "    ###Part of DB reset, times are now sub doc arrays on the baseline collection\n",
    "    res = col.aggregate([\n",
    "    {\n",
    "        '$match': {\n",
    "            'id': id\n",
    "        }\n",
    "    }, {\n",
    "        '$unwind': {\n",
    "            'path': '$wait_times', \n",
    "            'preserveNullAndEmptyArrays': False\n",
    "        }\n",
    "    }, {\n",
    "        '$project': {\n",
    "            '_id': 0, \n",
    "            'id': 1, \n",
    "            'name': 1, \n",
    "            'province': 1, \n",
    "            'dest': 1, \n",
    "            'timeZone': 1, \n",
    "            'region': 1, \n",
    "            'district': 1, \n",
    "            'utc': '$wait_times.utc', \n",
    "            'wait': '$wait_times.wait'\n",
    "        }\n",
    "    }, {\n",
    "        '$sort': {\n",
    "            'utc': -1\n",
    "        }\n",
    "    }, {\n",
    "        '$limit': 1\n",
    "    }\n",
    "])\n",
    "    res = list(res)[0]\n",
    "    if req == 'wait':\n",
    "        return res['wait']\n",
    "    elif req =='utc':\n",
    "        return res['utc'].astimezone(pytz.utc)\n",
    "    elif req =='local':\n",
    "        utc = res['utc']\n",
    "        local_tz = res['timeZone']\n",
    "        \n",
    "        return utc.astimezone(pytz.timezone(local_tz))\n",
    "    else:\n",
    "        return res"
   ]
  },
  {
   "cell_type": "code",
   "execution_count": 69,
   "metadata": {},
   "outputs": [
    {
     "data": {
      "text/plain": [
       "datetime.datetime(2021, 11, 18, 14, 10, tzinfo=<DstTzInfo 'America/Vancouver' PST-1 day, 16:00:00 STD>)"
      ]
     },
     "execution_count": 69,
     "metadata": {},
     "output_type": "execute_result"
    }
   ],
   "source": [
    "a = get_last_run_base(840,'local')\n",
    "a"
   ]
  },
  {
   "cell_type": "code",
   "execution_count": 70,
   "metadata": {},
   "outputs": [
    {
     "data": {
      "text/plain": [
       "datetime.datetime(2021, 11, 18, 14, 10, tzinfo=<DstTzInfo 'America/Vancouver' PST-1 day, 16:00:00 STD>)"
      ]
     },
     "execution_count": 70,
     "metadata": {},
     "output_type": "execute_result"
    }
   ],
   "source": [
    "a"
   ]
  },
  {
   "cell_type": "code",
   "execution_count": 71,
   "metadata": {},
   "outputs": [
    {
     "data": {
      "text/plain": [
       "datetime.datetime(2021, 11, 18, 22, 10, tzinfo=<UTC>)"
      ]
     },
     "execution_count": 71,
     "metadata": {},
     "output_type": "execute_result"
    }
   ],
   "source": [
    "a = get_last_run_base(840,'utc')\n",
    "a"
   ]
  },
  {
   "cell_type": "code",
   "execution_count": 1,
   "metadata": {},
   "outputs": [],
   "source": [
    "import mongo_queries"
   ]
  },
  {
   "cell_type": "code",
   "execution_count": 4,
   "metadata": {},
   "outputs": [],
   "source": [
    "l = mongo_queries.get_updating_list()"
   ]
  },
  {
   "cell_type": "code",
   "execution_count": 5,
   "metadata": {},
   "outputs": [
    {
     "data": {
      "text/plain": [
       "{'id': 427,\n",
       " 'name': 'Queenston Lewiston Bridge',\n",
       " 'province': 'ON',\n",
       " 'dest': '43.154644, -79.049258',\n",
       " 'timeZone': 'America/Toronto',\n",
       " 'region': 'Southern Ontario',\n",
       " 'district': 'Niagara Falls',\n",
       " 'utc': datetime.datetime(2021, 11, 18, 17, 10),\n",
       " 'wait': 102}"
      ]
     },
     "execution_count": 5,
     "metadata": {},
     "output_type": "execute_result"
    }
   ],
   "source": [
    "mongo_queries.get_last_run_base(l[0])"
   ]
  },
  {
   "cell_type": "code",
   "execution_count": null,
   "metadata": {},
   "outputs": [],
   "source": []
  }
 ],
 "metadata": {
  "interpreter": {
   "hash": "8b4584f2191c96903f75c12ec2a0133faba06cb605780ebe4c1887943b91765f"
  },
  "kernelspec": {
   "display_name": "Python 3.7.10 64-bit ('bordershop': conda)",
   "name": "python3"
  },
  "language_info": {
   "codemirror_mode": {
    "name": "ipython",
    "version": 3
   },
   "file_extension": ".py",
   "mimetype": "text/x-python",
   "name": "python",
   "nbconvert_exporter": "python",
   "pygments_lexer": "ipython3",
   "version": "3.7.10"
  },
  "orig_nbformat": 4
 },
 "nbformat": 4,
 "nbformat_minor": 2
}
