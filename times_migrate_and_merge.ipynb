{
 "cells": [
  {
   "cell_type": "code",
   "execution_count": 1,
   "metadata": {},
   "outputs": [],
   "source": [
    "import mongo_queries"
   ]
  },
  {
   "cell_type": "code",
   "execution_count": 2,
   "metadata": {},
   "outputs": [],
   "source": [
    "col = mongo_queries.col"
   ]
  },
  {
   "cell_type": "code",
   "execution_count": 6,
   "metadata": {},
   "outputs": [
    {
     "data": {
      "text/plain": [
       "[817,\n",
       " 453,\n",
       " 365,\n",
       " 311,\n",
       " 523,\n",
       " 367,\n",
       " 891,\n",
       " 621,\n",
       " 215,\n",
       " 819,\n",
       " 218,\n",
       " 711,\n",
       " 212,\n",
       " 409,\n",
       " 200,\n",
       " 893,\n",
       " 219,\n",
       " 832,\n",
       " 441,\n",
       " 231,\n",
       " 833,\n",
       " 308,\n",
       " 318,\n",
       " 334,\n",
       " 368,\n",
       " 518,\n",
       " 615,\n",
       " 522,\n",
       " 835,\n",
       " 607,\n",
       " 376,\n",
       " 335,\n",
       " 307,\n",
       " 834,\n",
       " 216,\n",
       " 337,\n",
       " 610,\n",
       " 222,\n",
       " 332,\n",
       " 4271,\n",
       " 330,\n",
       " 220,\n",
       " 818,\n",
       " 895,\n",
       " 896,\n",
       " 836,\n",
       " 841,\n",
       " 225,\n",
       " 214,\n",
       " 619,\n",
       " 410,\n",
       " 203,\n",
       " 507,\n",
       " 707,\n",
       " 816,\n",
       " 705,\n",
       " 217,\n",
       " 341,\n",
       " 620,\n",
       " 616,\n",
       " 505,\n",
       " 328,\n",
       " 618,\n",
       " 708,\n",
       " 362,\n",
       " 369,\n",
       " 478,\n",
       " 375,\n",
       " 339,\n",
       " 813,\n",
       " 524,\n",
       " 502,\n",
       " 302,\n",
       " 828,\n",
       " 427,\n",
       " 226,\n",
       " 506,\n",
       " 205,\n",
       " 314,\n",
       " 336,\n",
       " 452,\n",
       " 617,\n",
       " 329,\n",
       " 815,\n",
       " 508,\n",
       " 354,\n",
       " 351,\n",
       " 892,\n",
       " 706,\n",
       " 612,\n",
       " 213,\n",
       " 503,\n",
       " 333,\n",
       " 366,\n",
       " 324,\n",
       " 4272,\n",
       " 439,\n",
       " 521,\n",
       " 709,\n",
       " 840,\n",
       " 370,\n",
       " 230,\n",
       " 602,\n",
       " 517,\n",
       " 488,\n",
       " 440,\n",
       " 520,\n",
       " 456,\n",
       " 613,\n",
       " 475,\n",
       " 331,\n",
       " 824,\n",
       " 822,\n",
       " 509,\n",
       " 211,\n",
       " 516,\n",
       " 519]"
      ]
     },
     "execution_count": 6,
     "metadata": {},
     "output_type": "execute_result"
    }
   ],
   "source": [
    "ids = list(col.find({},{'id':1,'_id':0}))\n",
    "ids = [x['id'] for x in ids]\n",
    "ids"
   ]
  },
  {
   "cell_type": "code",
   "execution_count": 7,
   "metadata": {},
   "outputs": [
    {
     "data": {
      "text/plain": [
       "117"
      ]
     },
     "execution_count": 7,
     "metadata": {},
     "output_type": "execute_result"
    }
   ],
   "source": [
    "len(ids)"
   ]
  },
  {
   "cell_type": "code",
   "execution_count": 8,
   "metadata": {},
   "outputs": [],
   "source": [
    "run = mongo_queries.run"
   ]
  },
  {
   "cell_type": "code",
   "execution_count": 9,
   "metadata": {},
   "outputs": [
    {
     "data": {
      "text/plain": [
       "817"
      ]
     },
     "execution_count": 9,
     "metadata": {},
     "output_type": "execute_result"
    }
   ],
   "source": [
    "ids[0]"
   ]
  },
  {
   "cell_type": "code",
   "execution_count": 12,
   "metadata": {},
   "outputs": [],
   "source": [
    "ind = list(run.find({'crossing_id':456}))"
   ]
  },
  {
   "cell_type": "code",
   "execution_count": 13,
   "metadata": {},
   "outputs": [
    {
     "data": {
      "text/plain": [
       "{'_id': ObjectId('619e43485ecd38ab54e063c0'),\n",
       " 'utc': datetime.datetime(2021, 11, 24, 13, 50),\n",
       " 'crossing_id': 456,\n",
       " 'name': 'Landsdowne (Thousand Islands Bridge)',\n",
       " 'wait': 0}"
      ]
     },
     "execution_count": 13,
     "metadata": {},
     "output_type": "execute_result"
    }
   ],
   "source": [
    "ind[-1]"
   ]
  },
  {
   "cell_type": "code",
   "execution_count": 15,
   "metadata": {},
   "outputs": [],
   "source": [
    "def migrate(id):\n",
    "    data = list(run.find({'crossing_id':id},{'utc':1,'wait':1,\"_id\":0}))\n",
    "    col.update_one({'id':id},{'$set':{'wait_times':data}})"
   ]
  },
  {
   "cell_type": "code",
   "execution_count": 16,
   "metadata": {},
   "outputs": [],
   "source": [
    "migrate(456)"
   ]
  },
  {
   "cell_type": "code",
   "execution_count": 17,
   "metadata": {},
   "outputs": [
    {
     "name": "stdout",
     "output_type": "stream",
     "text": [
      "817\n",
      "453\n",
      "365\n",
      "311\n",
      "523\n",
      "367\n",
      "891\n",
      "621\n",
      "215\n",
      "819\n",
      "218\n",
      "711\n",
      "212\n",
      "409\n",
      "200\n",
      "893\n",
      "219\n",
      "832\n",
      "441\n",
      "231\n",
      "833\n",
      "308\n",
      "318\n",
      "334\n",
      "368\n",
      "518\n",
      "615\n",
      "522\n",
      "835\n",
      "607\n",
      "376\n",
      "335\n",
      "307\n",
      "834\n",
      "216\n",
      "337\n",
      "610\n",
      "222\n",
      "332\n",
      "4271\n",
      "330\n",
      "220\n",
      "818\n",
      "895\n",
      "896\n",
      "836\n",
      "841\n",
      "225\n",
      "214\n",
      "619\n",
      "410\n",
      "203\n",
      "507\n",
      "707\n",
      "816\n",
      "705\n",
      "217\n",
      "341\n",
      "620\n",
      "616\n",
      "505\n",
      "328\n",
      "618\n",
      "708\n",
      "362\n",
      "369\n",
      "478\n",
      "375\n",
      "339\n",
      "813\n",
      "524\n",
      "502\n",
      "302\n",
      "828\n",
      "427\n",
      "226\n",
      "506\n",
      "205\n",
      "314\n",
      "336\n",
      "452\n",
      "617\n",
      "329\n",
      "815\n",
      "508\n",
      "354\n",
      "351\n",
      "892\n",
      "706\n",
      "612\n",
      "213\n",
      "503\n",
      "333\n",
      "366\n",
      "324\n",
      "4272\n",
      "439\n",
      "521\n",
      "709\n",
      "840\n",
      "370\n",
      "230\n",
      "602\n",
      "517\n",
      "488\n",
      "440\n",
      "520\n",
      "456\n",
      "613\n",
      "475\n",
      "331\n",
      "824\n",
      "822\n",
      "509\n",
      "211\n",
      "516\n",
      "519\n"
     ]
    }
   ],
   "source": [
    "for x in ids:\n",
    "    print(x)\n",
    "    migrate(x)"
   ]
  },
  {
   "cell_type": "code",
   "execution_count": null,
   "metadata": {},
   "outputs": [],
   "source": []
  }
 ],
 "metadata": {
  "interpreter": {
   "hash": "8b4584f2191c96903f75c12ec2a0133faba06cb605780ebe4c1887943b91765f"
  },
  "kernelspec": {
   "display_name": "Python 3.7.10 64-bit ('bordershop': conda)",
   "language": "python",
   "name": "python3"
  },
  "language_info": {
   "codemirror_mode": {
    "name": "ipython",
    "version": 3
   },
   "file_extension": ".py",
   "mimetype": "text/x-python",
   "name": "python",
   "nbconvert_exporter": "python",
   "pygments_lexer": "ipython3",
   "version": "3.7.10"
  },
  "orig_nbformat": 4
 },
 "nbformat": 4,
 "nbformat_minor": 2
}
