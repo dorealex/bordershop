{
 "cells": [
  {
   "cell_type": "code",
   "execution_count": 1,
   "metadata": {},
   "outputs": [],
   "source": [
    "import mongo_queries\n",
    "from bson.objectid import ObjectId\n",
    "import datetime\n",
    "import utility_func"
   ]
  },
  {
   "cell_type": "code",
   "execution_count": 2,
   "metadata": {},
   "outputs": [],
   "source": [
    "late = mongo_queries.late\n",
    "leg = mongo_queries.leg\n",
    "run = mongo_queries.run"
   ]
  },
  {
   "cell_type": "code",
   "execution_count": 32,
   "metadata": {},
   "outputs": [],
   "source": [
    "doc = {\n",
    "    'utc':datetime.datetime.utcnow(),\n",
    "    'profiles':{\n",
    "        '1':\n",
    "            [\n",
    "                {'segment_start':0,\n",
    "                'segment_end':7,\n",
    "                'poll_rate':15},\n",
    "                {'segment_start':7,\n",
    "                'segment_end':19,\n",
    "                'poll_rate':10},\n",
    "                {'segment_start':19,\n",
    "                'segment_end':24,\n",
    "                'poll_rate':30}\n",
    "            ],\n",
    "        '2':\n",
    "            [\n",
    "                {'segment_start':0,\n",
    "                'segment_end':7,\n",
    "                'poll_rate':60},\n",
    "                {'segment_start':7,\n",
    "                'segment_end':19,\n",
    "                'poll_rate':30},\n",
    "                {'segment_start':19,\n",
    "                'segment_end':24,\n",
    "                'poll_rate':60}\n",
    "            ],\n",
    "        '3':\n",
    "            [\n",
    "                {'segment_start':0,\n",
    "                'segment_end':24,\n",
    "                'poll_rate':60},\n",
    "            ],            \n",
    "        \n",
    "            \n",
    "    }\n",
    "}"
   ]
  },
  {
   "cell_type": "code",
   "execution_count": 33,
   "metadata": {},
   "outputs": [
    {
     "data": {
      "text/plain": [
       "[{'segment_start': 0, 'segment_end': 24, 'poll_rate': 60}]"
      ]
     },
     "execution_count": 33,
     "metadata": {},
     "output_type": "execute_result"
    }
   ],
   "source": [
    "doc['profiles']['3']"
   ]
  },
  {
   "cell_type": "code",
   "execution_count": 5,
   "metadata": {},
   "outputs": [],
   "source": [
    "db = mongo_queries.db"
   ]
  },
  {
   "cell_type": "code",
   "execution_count": 34,
   "metadata": {},
   "outputs": [],
   "source": [
    "db['profiles'].insert_one(doc)\n",
    "profs = db['profiles']"
   ]
  },
  {
   "cell_type": "code",
   "execution_count": 39,
   "metadata": {},
   "outputs": [
    {
     "data": {
      "text/plain": [
       "datetime.time(0, 0)"
      ]
     },
     "execution_count": 39,
     "metadata": {},
     "output_type": "execute_result"
    }
   ],
   "source": [
    "datetime.time(0,0)"
   ]
  },
  {
   "cell_type": "code",
   "execution_count": 40,
   "metadata": {},
   "outputs": [],
   "source": [
    "profile = '1'\n",
    "time = datetime.datetime(2021,11,18,12,34)"
   ]
  },
  {
   "cell_type": "code",
   "execution_count": 41,
   "metadata": {},
   "outputs": [],
   "source": [
    "def get_poll_rate(profile, local_time):\n",
    "    #returns the poll rate in number of minutes for the profile given local time\n",
    "    #based on latest info from database\n",
    "    #local_time has to be a datetime\n",
    "    hour = local_time.hour\n",
    "    #minu = local_time.minute #not needed?\n",
    "    if type(profile) == int: #mongodb keys are strings\n",
    "        profile  =str(profile)\n",
    "\n",
    "    default = 60 # in case we can't find the rate\n",
    "    latest = list(profs.aggregate([\n",
    "        {'$sort':{'utc':-1}},\n",
    "        {'$limit':1}\n",
    "    ]))[0]\n",
    "    try:\n",
    "        sub_d = latest['profiles'][profile]\n",
    "        for seg in sub_d:\n",
    "            if hour in range(seg['segment_start'],seg['segment_end']):\n",
    "                return seg['poll_rate']\n",
    "        return default #if for whatever reason there was no time match\n",
    "    except KeyError:\n",
    "        return default\n",
    "    "
   ]
  },
  {
   "cell_type": "code",
   "execution_count": 35,
   "metadata": {},
   "outputs": [
    {
     "ename": "NameError",
     "evalue": "name 'get_poll_rate' is not defined",
     "output_type": "error",
     "traceback": [
      "\u001b[1;31m---------------------------------------------------------------------------\u001b[0m",
      "\u001b[1;31mNameError\u001b[0m                                 Traceback (most recent call last)",
      "\u001b[1;32m~\\AppData\\Local\\Temp/ipykernel_8804/3662613787.py\u001b[0m in \u001b[0;36m<module>\u001b[1;34m\u001b[0m\n\u001b[1;32m----> 1\u001b[1;33m \u001b[0mget_poll_rate\u001b[0m\u001b[1;33m(\u001b[0m\u001b[1;36m1\u001b[0m\u001b[1;33m,\u001b[0m\u001b[0mtime\u001b[0m\u001b[1;33m)\u001b[0m\u001b[1;33m\u001b[0m\u001b[1;33m\u001b[0m\u001b[0m\n\u001b[0m",
      "\u001b[1;31mNameError\u001b[0m: name 'get_poll_rate' is not defined"
     ]
    }
   ],
   "source": [
    "get_poll_rate(1,time)"
   ]
  },
  {
   "cell_type": "code",
   "execution_count": 43,
   "metadata": {},
   "outputs": [
    {
     "ename": "AttributeError",
     "evalue": "'datetime.datetime' object has no attribute 'mi'",
     "output_type": "error",
     "traceback": [
      "\u001b[1;31m---------------------------------------------------------------------------\u001b[0m",
      "\u001b[1;31mAttributeError\u001b[0m                            Traceback (most recent call last)",
      "\u001b[1;32m~\\AppData\\Local\\Temp/ipykernel_17580/1597815147.py\u001b[0m in \u001b[0;36m<module>\u001b[1;34m\u001b[0m\n\u001b[1;32m----> 1\u001b[1;33m \u001b[0mtime\u001b[0m\u001b[1;33m.\u001b[0m\u001b[0mmi\u001b[0m\u001b[1;33m\u001b[0m\u001b[1;33m\u001b[0m\u001b[0m\n\u001b[0m",
      "\u001b[1;31mAttributeError\u001b[0m: 'datetime.datetime' object has no attribute 'mi'"
     ]
    }
   ],
   "source": [
    "time.mi"
   ]
  },
  {
   "cell_type": "code",
   "execution_count": null,
   "metadata": {},
   "outputs": [
    {
     "data": {
      "text/plain": [
       "False"
      ]
     },
     "execution_count": 57,
     "metadata": {},
     "output_type": "execute_result"
    }
   ],
   "source": [
    "10 in range(0,10)"
   ]
  },
  {
   "cell_type": "code",
   "execution_count": 24,
   "metadata": {},
   "outputs": [],
   "source": [
    "sites = mongo_queries.get_updating_list()"
   ]
  },
  {
   "cell_type": "code",
   "execution_count": 25,
   "metadata": {},
   "outputs": [
    {
     "data": {
      "text/plain": [
       "[427, 440, 602, 351, 453, 840]"
      ]
     },
     "execution_count": 25,
     "metadata": {},
     "output_type": "execute_result"
    }
   ],
   "source": [
    "sites"
   ]
  },
  {
   "cell_type": "code",
   "execution_count": 9,
   "metadata": {},
   "outputs": [],
   "source": [
    "import pandas as pd"
   ]
  },
  {
   "cell_type": "code",
   "execution_count": 10,
   "metadata": {},
   "outputs": [],
   "source": [
    "my_list = [mongo_queries.get_last_run_base(i) for i in sites]"
   ]
  },
  {
   "cell_type": "code",
   "execution_count": 37,
   "metadata": {},
   "outputs": [
    {
     "data": {
      "text/plain": [
       "30"
      ]
     },
     "execution_count": 37,
     "metadata": {},
     "output_type": "execute_result"
    }
   ],
   "source": [
    "\n",
    "mongo_queries.get_poll_rate(1,datetime.datetime.utcnow())"
   ]
  },
  {
   "cell_type": "code",
   "execution_count": 38,
   "metadata": {},
   "outputs": [
    {
     "data": {
      "text/plain": [
       "datetime.datetime(2021, 11, 18, 22, 24, 4, 446731)"
      ]
     },
     "execution_count": 38,
     "metadata": {},
     "output_type": "execute_result"
    }
   ],
   "source": [
    "datetime.datetime.utcnow()"
   ]
  },
  {
   "cell_type": "code",
   "execution_count": null,
   "metadata": {},
   "outputs": [],
   "source": [
    "df = pd.DataFrame(my_list)"
   ]
  },
  {
   "cell_type": "code",
   "execution_count": null,
   "metadata": {},
   "outputs": [
    {
     "data": {
      "text/plain": [
       "{'id': 427,\n",
       " 'name': 'Queenston Lewiston Bridge',\n",
       " 'province': 'ON',\n",
       " 'dest': '43.154644, -79.049258',\n",
       " 'origin': '43.15273, -79.034308',\n",
       " 'timeZone': 'America/Toronto',\n",
       " 'region': 'Southern Ontario',\n",
       " 'district': 'Niagara Falls',\n",
       " 'profile': 1,\n",
       " 'utc': datetime.datetime(2021, 11, 18, 21, 40),\n",
       " 'wait': 154}"
      ]
     },
     "execution_count": 28,
     "metadata": {},
     "output_type": "execute_result"
    }
   ],
   "source": [
    "a = my_list[0]\n",
    "a"
   ]
  },
  {
   "cell_type": "code",
   "execution_count": null,
   "metadata": {},
   "outputs": [],
   "source": [
    "url = utility_func.url_creator(a['origin'],a['dest'])\n",
    "r = utility_func.get_data(url)\n",
    "mongo_queries.add_one_base(r,a['id'])"
   ]
  },
  {
   "cell_type": "code",
   "execution_count": null,
   "metadata": {},
   "outputs": [
    {
     "data": {
      "text/plain": [
       "{'id': 427,\n",
       " 'name': 'Queenston Lewiston Bridge',\n",
       " 'province': 'ON',\n",
       " 'dest': '43.154644, -79.049258',\n",
       " 'origin': '43.15273, -79.034308',\n",
       " 'timeZone': 'America/Toronto',\n",
       " 'region': 'Southern Ontario',\n",
       " 'district': 'Niagara Falls',\n",
       " 'profile': 1,\n",
       " 'utc': datetime.datetime(2021, 11, 18, 20, 50),\n",
       " 'wait': 82}"
      ]
     },
     "execution_count": 10,
     "metadata": {},
     "output_type": "execute_result"
    }
   ],
   "source": [
    "mongo_queries.get_last_run_base(427)"
   ]
  },
  {
   "cell_type": "code",
   "execution_count": 11,
   "metadata": {},
   "outputs": [],
   "source": [
    "my_list=[my_list[0]]"
   ]
  },
  {
   "cell_type": "code",
   "execution_count": 12,
   "metadata": {},
   "outputs": [
    {
     "data": {
      "text/plain": [
       "[{'id': 427,\n",
       "  'name': 'Queenston Lewiston Bridge',\n",
       "  'province': 'ON',\n",
       "  'dest': '43.154644, -79.049258',\n",
       "  'origin': '43.15273, -79.034308',\n",
       "  'timeZone': 'America/Toronto',\n",
       "  'region': 'Southern Ontario',\n",
       "  'district': 'Niagara Falls',\n",
       "  'profile': 1,\n",
       "  'utc': datetime.datetime(2021, 11, 18, 21, 40),\n",
       "  'wait': 154}]"
      ]
     },
     "execution_count": 12,
     "metadata": {},
     "output_type": "execute_result"
    }
   ],
   "source": [
    "my_list"
   ]
  },
  {
   "cell_type": "code",
   "execution_count": 14,
   "metadata": {},
   "outputs": [],
   "source": [
    "import pytz"
   ]
  },
  {
   "cell_type": "code",
   "execution_count": 40,
   "metadata": {},
   "outputs": [
    {
     "name": "stdout",
     "output_type": "stream",
     "text": [
      "2021-11-18 22:24:55.641764+00:00 -  Queenston Lewiston Bridge  last run: 2021-11-18 22:20:00+00:00  time since: 0:04:55.641764  due: False\n"
     ]
    }
   ],
   "source": [
    "sites = [sites[0]]\n",
    "for s in sites:\n",
    "        x=mongo_queries.get_last_run_base(s)        \n",
    "        id = x['id']                                                            #the id of the location\n",
    "        utc = x['utc']\n",
    "        utc = pytz.utc.localize(utc)                                            #the utc time it was last run\n",
    "        tz = x['timeZone']                                                      #the time zone of the location\n",
    "        ltnow = mongo_queries.convert_to_local(datetime.datetime.utcnow(),tz)   #local time now        \n",
    "        lt = mongo_queries.convert_to_local(utc,tz)                             #local time at last time it was run\n",
    "        poll_rate = mongo_queries.get_poll_rate(x['profile'],ltnow)             #how often it should be polled, in minutes\n",
    "        poll_rate = datetime.timedelta(minutes=poll_rate)                       #convert the number of minutes into minutes (timedelta)\n",
    "        now = datetime.datetime.utcnow()                                        #current utc time\n",
    "        now = pytz.utc.localize(now)                                            #converted to aware\n",
    "        time_since = now - utc                                                  #time since it was last polled\n",
    "        due = time_since > poll_rate                                            #is it due to be polled\n",
    "        if due:        \n",
    "            url = utility_func.url_creator(x['origin'],x['dest'])               #create the url\n",
    "            r = utility_func.get_data(url)                                      #send the request to google maps API\n",
    "            mongo_queries.add_one_base(r,x['id'])                               #add it to the database. Note: DB reset --> now adds the data to the baseline collection as a sub array\n",
    "        x.update({'local_time':lt,'time_since':time_since,'poll_rate':poll_rate,'due':due})  # dict of what we did, not needed other than a df?\n",
    "        print(now,'- ', x['name'],' last run:', utc,' time since:', time_since,' due:',due)\n",
    "        #print(x)"
   ]
  },
  {
   "cell_type": "code",
   "execution_count": 14,
   "metadata": {},
   "outputs": [
    {
     "data": {
      "text/plain": [
       "{'id': 427,\n",
       " 'name': 'Queenston Lewiston Bridge',\n",
       " 'province': 'ON',\n",
       " 'dest': '43.154644, -79.049258',\n",
       " 'origin': '43.15273, -79.034308',\n",
       " 'timeZone': 'America/Toronto',\n",
       " 'region': 'Southern Ontario',\n",
       " 'district': 'Niagara Falls',\n",
       " 'profile': 1,\n",
       " 'utc': datetime.datetime(2021, 11, 18, 20, 50),\n",
       " 'wait': 82}"
      ]
     },
     "execution_count": 14,
     "metadata": {},
     "output_type": "execute_result"
    }
   ],
   "source": [
    "my_list"
   ]
  },
  {
   "cell_type": "code",
   "execution_count": 23,
   "metadata": {},
   "outputs": [
    {
     "data": {
      "text/plain": [
       "datetime.datetime(2021, 11, 18, 17, 4, 11, 12049, tzinfo=<DstTzInfo 'America/Toronto' EST-1 day, 19:00:00 STD>)"
      ]
     },
     "execution_count": 23,
     "metadata": {},
     "output_type": "execute_result"
    }
   ],
   "source": [
    "now = datetime.datetime.utcnow()                                        #current utc time\n",
    "now = pytz.utc.localize(now) \n",
    "mongo_queries.convert_to_local(now,tz) "
   ]
  }
 ],
 "metadata": {
  "interpreter": {
   "hash": "8b4584f2191c96903f75c12ec2a0133faba06cb605780ebe4c1887943b91765f"
  },
  "kernelspec": {
   "display_name": "Python 3.7.10 64-bit ('bordershop': conda)",
   "language": "python",
   "name": "python3"
  },
  "language_info": {
   "codemirror_mode": {
    "name": "ipython",
    "version": 3
   },
   "file_extension": ".py",
   "mimetype": "text/x-python",
   "name": "python",
   "nbconvert_exporter": "python",
   "pygments_lexer": "ipython3",
   "version": "3.7.10"
  },
  "orig_nbformat": 4
 },
 "nbformat": 4,
 "nbformat_minor": 2
}
